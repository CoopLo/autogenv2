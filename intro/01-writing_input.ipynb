{
 "cells": [
  {
   "cell_type": "code",
   "execution_count": null,
   "metadata": {},
   "outputs": [],
   "source": [
    "# Access the autogen libraries.\n",
    "import sys\n",
    "sys.path.append('..')"
   ]
  },
  {
   "cell_type": "markdown",
   "metadata": {},
   "source": [
    "# Generating a PySCF input.\n",
    "\n",
    "One of the simplest uses of autogen is to generate input files in succinct ways and have an object store the options for posterity. "
   ]
  },
  {
   "cell_type": "markdown",
   "metadata": {},
   "source": [
    "### The `PySCFWriter` object\n",
    "The PySCFWriter writes input files and stores the input parameters within itself."
   ]
  },
  {
   "cell_type": "code",
   "execution_count": null,
   "metadata": {},
   "outputs": [],
   "source": [
    "from autopyscf import PySCFWriter\n",
    "\n",
    "pyscf_writer = PySCFWriter()\n",
    "pyscf_writer.__dict__"
   ]
  },
  {
   "cell_type": "markdown",
   "metadata": {},
   "source": [
    "### Importing a structure.\n",
    "The only required input (without a default) is the structure definition. \n",
    "For molecules, this means specifying the xyz coordinates of the atoms."
   ]
  },
  {
   "cell_type": "code",
   "execution_count": null,
   "metadata": {},
   "outputs": [],
   "source": [
    "# A hydrogen molecule.\n",
    "h2='\\n'.join([\n",
    "    'H 0.0 0.0 0.0 ',\n",
    "    'H 0.74 0.0 0.0 '\n",
    "])\n",
    "pyscf_writer.set_options({'xyz':h2})"
   ]
  },
  {
   "cell_type": "markdown",
   "metadata": {},
   "source": [
    "### Changing an option.\n",
    "Options can be generally changed using `set_options`. \n",
    "Equivilently, you can instead have passed this dictionary of options to the constructor."
   ]
  },
  {
   "cell_type": "code",
   "execution_count": null,
   "metadata": {},
   "outputs": [],
   "source": [
    "# Let's do a restricted PBE calculation instead of ROHF.\n",
    "pyscf_writer.set_options({\n",
    "    'method':'RKS',\n",
    "    'dft':'pbe,pbe'\n",
    "})"
   ]
  },
  {
   "cell_type": "markdown",
   "metadata": {},
   "source": [
    "Options get checked by `set_options` and rejected if they have obvious problems."
   ]
  },
  {
   "cell_type": "code",
   "execution_count": null,
   "metadata": {},
   "outputs": [],
   "source": [
    "# This keyword is misspelled:\n",
    "pyscf_writer.set_options({'converge_tol':1e-4})"
   ]
  },
  {
   "cell_type": "code",
   "execution_count": null,
   "metadata": {},
   "outputs": [],
   "source": [
    "# This spin setting incompatible with the charge setting.\n",
    "pyscf_writer.set_options({'charge':2,'spin':1})"
   ]
  },
  {
   "cell_type": "markdown",
   "metadata": {},
   "source": [
    "### Creating the input file.\n",
    "Once all the input is set up correctly, use `pyscf_input` to direct it to export the settings to a file.\n",
    "You should specify the chkfile, which is where PySCF will store much of the results.\n",
    "`h2_pyscf_input.py` is now a runable PySCF file."
   ]
  },
  {
   "cell_type": "code",
   "execution_count": null,
   "metadata": {},
   "outputs": [],
   "source": [
    "pyscf_writer.pyscf_input('h2_pyscf_input.py','h2_pyscf_input.chkfile')"
   ]
  },
  {
   "cell_type": "markdown",
   "metadata": {},
   "source": [
    "# Next: how to read the results of the run (02-reading_output.ipynb)."
   ]
  },
  {
   "cell_type": "code",
   "execution_count": null,
   "metadata": {},
   "outputs": [],
   "source": []
  }
 ],
 "metadata": {
  "kernelspec": {
   "display_name": "Python 3",
   "language": "python",
   "name": "python3"
  },
  "language_info": {
   "codemirror_mode": {
    "name": "ipython",
    "version": 3
   },
   "file_extension": ".py",
   "mimetype": "text/x-python",
   "name": "python",
   "nbconvert_exporter": "python",
   "pygments_lexer": "ipython3",
   "version": "3.5.2"
  }
 },
 "nbformat": 4,
 "nbformat_minor": 2
}
