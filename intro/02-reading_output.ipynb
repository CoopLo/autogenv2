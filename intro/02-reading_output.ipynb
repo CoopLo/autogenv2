{
 "cells": [
  {
   "cell_type": "code",
   "execution_count": null,
   "metadata": {},
   "outputs": [],
   "source": [
    "# Access the autogen libraries.\n",
    "import sys\n",
    "sys.path.append('..')"
   ]
  },
  {
   "cell_type": "markdown",
   "metadata": {},
   "source": [
    "# Reading a PySCF output file.\n",
    "\n",
    "After a file is succesfully run, we can read the results into an object and check the results are complete.\n",
    "\n",
    "### The `PySCFReader` object.\n",
    "`PySCFReader` reads in the results of a `PySCFWriter` produced-input file that has been run. \n",
    "It can do quick diagonostics of the results and store information."
   ]
  },
  {
   "cell_type": "code",
   "execution_count": null,
   "metadata": {
    "scrolled": false
   },
   "outputs": [],
   "source": [
    "from autopyscf import PySCFReader\n",
    "pyscf_reader = PySCFReader()"
   ]
  },
  {
   "cell_type": "markdown",
   "metadata": {},
   "source": [
    "### Reading in some sample output.\n",
    "Let's generate some sample output for reading in. "
   ]
  },
  {
   "cell_type": "code",
   "execution_count": null,
   "metadata": {},
   "outputs": [],
   "source": [
    "# Simple input file generation. See 01-intro for example. \n",
    "from autopyscf import PySCFWriter\n",
    "import subprocess as sub\n",
    "h2='\\n'.join([\n",
    "    'H 0.0  0.0 0.0 ',\n",
    "    'H 0.7  0.0 0.0 '\n",
    "  ])  \n",
    "pyscf_writer=PySCFWriter({'xyz':h2})\n",
    "pyscf_writer.pyscf_input('02-scratch-1.py','02-scratch-1.chkfile')\n",
    "sub.run('python3 02-scratch-1.py > 02-scratch-1.py.out',shell=True)"
   ]
  },
  {
   "cell_type": "markdown",
   "metadata": {},
   "source": [
    "Now we can collect the results"
   ]
  },
  {
   "cell_type": "code",
   "execution_count": null,
   "metadata": {},
   "outputs": [],
   "source": [
    "status=pyscf_reader.collect('02-scratch-1.py.out','02-scratch-1.chkfile')\n",
    "print(\"Status of job:\",status)"
   ]
  },
  {
   "cell_type": "markdown",
   "metadata": {},
   "source": [
    "### Accessing results of interest.\n",
    "After collection, the reader holds the information about the run in its member variable `output`.\n",
    "`output` will consist of a nested python dictionary that is easy to explore."
   ]
  },
  {
   "cell_type": "code",
   "execution_count": null,
   "metadata": {},
   "outputs": [],
   "source": [
    "pyscf_reader.output.keys()"
   ]
  },
  {
   "cell_type": "code",
   "execution_count": null,
   "metadata": {},
   "outputs": [],
   "source": [
    "pyscf_reader.output['scf'].keys()"
   ]
  },
  {
   "cell_type": "code",
   "execution_count": null,
   "metadata": {},
   "outputs": [],
   "source": [
    "# Here are the energies of the MOs, for example.\n",
    "pyscf_reader.output['scf']['mo_energy']"
   ]
  },
  {
   "cell_type": "code",
   "execution_count": null,
   "metadata": {},
   "outputs": [],
   "source": [
    "# For posterity, it stores the name of the file where this came from.\n",
    "pyscf_reader.output['file']"
   ]
  },
  {
   "cell_type": "markdown",
   "metadata": {},
   "source": [
    "### Error detection.\n",
    "Here's an example of how the reader can detect a problem has occured.\n",
    "To generate erroneous output, I'll give PySCF some unreasonable settings."
   ]
  },
  {
   "cell_type": "code",
   "execution_count": null,
   "metadata": {},
   "outputs": [],
   "source": [
    "#PySCF is only allowed to do two steps.\n",
    "pyscf_writer.set_options({'max_cycle':2})\n",
    "pyscf_writer.pyscf_input('02-scratch-2.py','02-scratch-2.chkfile')\n",
    "sub.run('python3 02-scratch-2.py > 02-scratch-2.py.out',shell=True)\n",
    "\n",
    "# The output file says \"SCF not converged\" which the PySCFReader can detect.\n",
    "status=pyscf_reader.collect('02-scratch-2.py.out','02-scratch-2.chkfile')\n",
    "print(\"Status of job:\",status)"
   ]
  },
  {
   "cell_type": "markdown",
   "metadata": {},
   "source": [
    "The results of these checks can be used to automatically decide the next course of action. \n",
    "The next section utilizes this information to do some basic automated error correction.\n",
    "For example, if the job is killed it will attempt to restart it, and continue the calcultion."
   ]
  },
  {
   "cell_type": "markdown",
   "metadata": {},
   "source": [
    "# Next: automated running of jobs in batch (03-queuing.ipynb)."
   ]
  },
  {
   "cell_type": "code",
   "execution_count": null,
   "metadata": {},
   "outputs": [],
   "source": []
  }
 ],
 "metadata": {
  "kernelspec": {
   "display_name": "Python 3",
   "language": "python",
   "name": "python3"
  },
  "language_info": {
   "codemirror_mode": {
    "name": "ipython",
    "version": 3
   },
   "file_extension": ".py",
   "mimetype": "text/x-python",
   "name": "python",
   "nbconvert_exporter": "python",
   "pygments_lexer": "ipython3",
   "version": "3.5.2"
  }
 },
 "nbformat": 4,
 "nbformat_minor": 2
}
