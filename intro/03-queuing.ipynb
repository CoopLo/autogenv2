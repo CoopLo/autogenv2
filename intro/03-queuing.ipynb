{
 "cells": [
  {
   "cell_type": "code",
   "execution_count": 1,
   "metadata": {
    "collapsed": true
   },
   "outputs": [],
   "source": [
    "# Access the autogen libraries.\n",
    "import sys\n",
    "sys.path.append('..')"
   ]
  },
  {
   "cell_type": "markdown",
   "metadata": {},
   "source": [
    "# Running a PySCF file.\n",
    "Autogen can run any file and keep track of its progress in a queue. \n",
    "### The `PySCFRunnerPBS` object.\n",
    "The runner contains the information about the resources you want to allocate to the program each time you attempt a run.\n",
    "This object also allows you to interact with a queueing program.\n",
    "This particular one works with PBS Torque.\n",
    "\n",
    "*Note: you need to run this demo on a workstation with PBS Torque set up.*"
   ]
  },
  {
   "cell_type": "code",
   "execution_count": 2,
   "metadata": {
    "collapsed": true
   },
   "outputs": [],
   "source": [
    "from autorunner import PySCFRunnerPBS\n",
    "import sys\n",
    "pyscf_runner = PySCFRunnerPBS(\n",
    "    queue='batch',        # This is the default queue for most PBS queues.\n",
    "    walltime='1:00:00',\n",
    "    jobname='03-queuing', # what the queue will report.\n",
    "    nn=1,np=4\n",
    ")"
   ]
  },
  {
   "cell_type": "markdown",
   "metadata": {},
   "source": [
    "### Running a job.\n",
    "To run a job let's first make a simple input file.\n",
    "I'll use nitrogen, because hydrogen runs nearly instantly, and so won't be in the queue long enough to check.\n",
    "I also set the self-consistency tolerance extreamly small to give you some time to check the queue while its running."
   ]
  },
  {
   "cell_type": "code",
   "execution_count": 3,
   "metadata": {
    "collapsed": true
   },
   "outputs": [],
   "source": [
    "# Simple input file generation. See 01-intro for example. \n",
    "from autopyscf import PySCFWriter\n",
    "h2='\\n'.join([\n",
    "    'N 0.0  0.0 0.0 ',\n",
    "    'N 1.1 0.0 0.0 '\n",
    "  ])  \n",
    "pyscf_writer=PySCFWriter({'xyz':h2,'direct_scf_tol':1e-12,'max_cycle':200})\n",
    "pyscf_writer.pyscf_input('03-scratch.py','03-scratch.chkfile')"
   ]
  },
  {
   "cell_type": "markdown",
   "metadata": {},
   "source": [
    "The first step is to tell the runner that you want to run this command.\n",
    "This won't submit the job to the queue. \n",
    "The reason it doesn't is that you may want to bundle the job---run multiple PySCF executables with one submission, for example."
   ]
  },
  {
   "cell_type": "code",
   "execution_count": 4,
   "metadata": {
    "collapsed": false
   },
   "outputs": [
    {
     "data": {
      "text/plain": [
       "['python3 03-scratch.py &> 03-scratch.py.out']"
      ]
     },
     "execution_count": 4,
     "metadata": {},
     "output_type": "execute_result"
    }
   ],
   "source": [
    "# Run this file, please.\n",
    "pyscf_runner.add_task('python3 03-scratch.py &> 03-scratch.py.out')\n",
    "pyscf_runner.exelines"
   ]
  },
  {
   "cell_type": "markdown",
   "metadata": {},
   "source": [
    "Now call `submit` to send this to the queue.\n",
    "The queue id is stored in the `queueid` attribute.\n",
    "Call `check_status` to check on the job (right away, before it finishes!)"
   ]
  },
  {
   "cell_type": "code",
   "execution_count": 5,
   "metadata": {
    "collapsed": false
   },
   "outputs": [
    {
     "name": "stdout",
     "output_type": "stream",
     "text": [
      "PySCFRunnerPBS : Error submitting job. Check queue settings.\n",
      "Queue id: []\n"
     ]
    },
    {
     "data": {
      "text/plain": [
       "'unknown'"
      ]
     },
     "execution_count": 5,
     "metadata": {},
     "output_type": "execute_result"
    }
   ],
   "source": [
    "pyscf_runner.submit()\n",
    "print(\"Queue id:\",pyscf_runner.queueid)\n",
    "pyscf_runner.check_status()"
   ]
  },
  {
   "cell_type": "markdown",
   "metadata": {},
   "source": [
    "Note the `queueid` is a list. \n",
    "Each time something is run, the queue ID is saved in this list.\n",
    "If something funny happens with the submission, you can reference this information for debugging.\n",
    "The last submission is saved at the end."
   ]
  },
  {
   "cell_type": "markdown",
   "metadata": {},
   "source": [
    "### Checking the status of a job.\n",
    "\n",
    "`check_status` will return 'unknown', 'running', or 'finished' depending on what information the queue has. "
   ]
  },
  {
   "cell_type": "markdown",
   "metadata": {},
   "source": [
    "Try waiting a while and executing this command again.\n",
    "\n",
    "If we wait long enough, the queue id is no longer in the system, so the status becomes 'unknown'. \n",
    "Don't worry, this is normal!"
   ]
  },
  {
   "cell_type": "code",
   "execution_count": 9,
   "metadata": {
    "collapsed": false
   },
   "outputs": [
    {
     "data": {
      "text/plain": [
       "'unknown'"
      ]
     },
     "execution_count": 9,
     "metadata": {},
     "output_type": "execute_result"
    }
   ],
   "source": [
    "pyscf_runner.check_status()"
   ]
  },
  {
   "cell_type": "markdown",
   "metadata": {},
   "source": [
    "Does it say \"unknown\" or \"complete\"? This usually means the job completed successfully. So the job is finished? Let's check its results."
   ]
  },
  {
   "cell_type": "code",
   "execution_count": 10,
   "metadata": {
    "collapsed": false
   },
   "outputs": [
    {
     "ename": "FileNotFoundError",
     "evalue": "[Errno 2] No such file or directory: '03-scratch.py.out'",
     "output_type": "error",
     "traceback": [
      "\u001b[0;31m---------------------------------------------------------------------------\u001b[0m",
      "\u001b[0;31mFileNotFoundError\u001b[0m                         Traceback (most recent call last)",
      "\u001b[0;32m<ipython-input-10-7bb4f68a9fd6>\u001b[0m in \u001b[0;36m<module>\u001b[0;34m()\u001b[0m\n\u001b[1;32m      1\u001b[0m \u001b[0;32mfrom\u001b[0m \u001b[0mautopyscf\u001b[0m \u001b[0;32mimport\u001b[0m \u001b[0mPySCFReader\u001b[0m\u001b[0;34m\u001b[0m\u001b[0m\n\u001b[1;32m      2\u001b[0m \u001b[0mpyscf_reader\u001b[0m \u001b[0;34m=\u001b[0m \u001b[0mPySCFReader\u001b[0m\u001b[0;34m(\u001b[0m\u001b[0;34m)\u001b[0m\u001b[0;34m\u001b[0m\u001b[0m\n\u001b[0;32m----> 3\u001b[0;31m \u001b[0mprint\u001b[0m\u001b[0;34m(\u001b[0m\u001b[0;34m\"Status:\"\u001b[0m\u001b[0;34m,\u001b[0m\u001b[0mpyscf_reader\u001b[0m\u001b[0;34m.\u001b[0m\u001b[0mcollect\u001b[0m\u001b[0;34m(\u001b[0m\u001b[0;34m'03-scratch.py.out'\u001b[0m\u001b[0;34m,\u001b[0m\u001b[0;34m'03-scratch.chkfile'\u001b[0m\u001b[0;34m)\u001b[0m\u001b[0;34m)\u001b[0m\u001b[0;34m\u001b[0m\u001b[0m\n\u001b[0m",
      "\u001b[0;32m/home/brian/programs/autogenv2/autopyscf.py\u001b[0m in \u001b[0;36mcollect\u001b[0;34m(self, outfile, chkfile)\u001b[0m\n\u001b[1;32m    420\u001b[0m \u001b[0;34m\u001b[0m\u001b[0m\n\u001b[1;32m    421\u001b[0m     \u001b[0mconverged\u001b[0m\u001b[0;34m=\u001b[0m\u001b[0;32mFalse\u001b[0m\u001b[0;34m\u001b[0m\u001b[0m\n\u001b[0;32m--> 422\u001b[0;31m     \u001b[0mlines\u001b[0m \u001b[0;34m=\u001b[0m \u001b[0mopen\u001b[0m\u001b[0;34m(\u001b[0m\u001b[0moutfile\u001b[0m\u001b[0;34m,\u001b[0m\u001b[0;34m'r'\u001b[0m\u001b[0;34m)\u001b[0m\u001b[0;34m.\u001b[0m\u001b[0mread\u001b[0m\u001b[0;34m(\u001b[0m\u001b[0;34m)\u001b[0m\u001b[0;34m.\u001b[0m\u001b[0msplit\u001b[0m\u001b[0;34m(\u001b[0m\u001b[0;34m'\\n'\u001b[0m\u001b[0;34m)\u001b[0m\u001b[0;34m\u001b[0m\u001b[0m\n\u001b[0m\u001b[1;32m    423\u001b[0m     \u001b[0;32mfor\u001b[0m \u001b[0mline\u001b[0m \u001b[0;32min\u001b[0m \u001b[0mreversed\u001b[0m\u001b[0;34m(\u001b[0m\u001b[0mlines\u001b[0m\u001b[0;34m)\u001b[0m\u001b[0;34m:\u001b[0m\u001b[0;34m\u001b[0m\u001b[0m\n\u001b[1;32m    424\u001b[0m       \u001b[0;32mif\u001b[0m \u001b[0;34m\"converged SCF energy\"\u001b[0m \u001b[0;32min\u001b[0m \u001b[0mline\u001b[0m\u001b[0;34m:\u001b[0m\u001b[0;34m\u001b[0m\u001b[0m\n",
      "\u001b[0;31mFileNotFoundError\u001b[0m: [Errno 2] No such file or directory: '03-scratch.py.out'"
     ]
    }
   ],
   "source": [
    "from autopyscf import PySCFReader\n",
    "pyscf_reader = PySCFReader()\n",
    "print(\"Status:\",pyscf_reader.collect('03-scratch.py.out','03-scratch.chkfile'))"
   ]
  },
  {
   "cell_type": "markdown",
   "metadata": {},
   "source": [
    "*Note: if you call this routine before the run is done, it will think the job is killed.\n",
    "You should wait until the runner reports 'complete' or 'unknown' and then call the reader.\n",
    "The next section automates this process.*"
   ]
  },
  {
   "cell_type": "markdown",
   "metadata": {},
   "source": [
    "# Next: automating the write-run-read process."
   ]
  },
  {
   "cell_type": "code",
   "execution_count": null,
   "metadata": {
    "collapsed": true
   },
   "outputs": [],
   "source": []
  }
 ],
 "metadata": {
  "kernelspec": {
   "display_name": "Python 3",
   "language": "python",
   "name": "python3"
  },
  "language_info": {
   "codemirror_mode": {
    "name": "ipython",
    "version": 3
   },
   "file_extension": ".py",
   "mimetype": "text/x-python",
   "name": "python",
   "nbconvert_exporter": "python",
   "pygments_lexer": "ipython3",
   "version": "3.5.4"
  }
 },
 "nbformat": 4,
 "nbformat_minor": 2
}
